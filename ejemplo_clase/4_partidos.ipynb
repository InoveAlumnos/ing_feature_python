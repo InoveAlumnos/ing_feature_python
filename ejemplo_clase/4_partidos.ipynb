{
 "cells": [
  {
   "cell_type": "markdown",
   "metadata": {
    "id": "Ea9CPlvttQda"
   },
   "source": [
    "<a href=\"https://www.inove.com.ar\"><img src=\"https://raw.githubusercontent.com/InoveAlumnos/dataset_analytics_python/master/images/PA%20Banner.png\" width=\"1000\" align=\"center\"></a>\n",
    "\n",
    "\n",
    "# Infeniería de feature\n",
    "\n",
    "Crear un modelo base para analizar el dataset de partidos<br>\n",
    "v1.1"
   ]
  },
  {
   "cell_type": "markdown",
   "metadata": {
    "id": "sK48nTyj13UY"
   },
   "source": [
    "### Objetivos: Generar un modelo base sin utilizar Inteligencia Artificial para predecir el resultado de un partido de Futbol.\n",
    "\n",
    "*   Implemetar el código de descarga de un archivo csv.\n",
    "*   Comprender la lectura de un archivo csv con Pandas.\n",
    "*   Realizar la descripción estadística con Pandas.\n",
    "*   Identificar y eliminar datos faltantes.\n",
    "*   Explorar los datos y aplicar filtros para alquileres en ARS.\n",
    "*   Representar graficamente los datos para observar la tendencia.\n",
    "*   Definir los valores de X, y como variables necesarias para un modelo.\n",
    "*   Definir el criterio para dividir el dataset en entrenamiento (train) y evaluación (test).\n",
    "* Crear un modelo base simple para calcular el precio promedio de un alquiler\n",
    "*  Implementar métricas."
   ]
  },
  {
   "cell_type": "code",
   "execution_count": null,
   "metadata": {
    "executionInfo": {
     "elapsed": 1525,
     "status": "ok",
     "timestamp": 1674766342752,
     "user": {
      "displayName": "Johana Rangel",
      "userId": "05955916709715560742"
     },
     "user_tz": 180
    },
    "id": "xJN8ND5ctQdc"
   },
   "outputs": [],
   "source": [
    "import os\n",
    "import platform\n",
    "\n",
    "import numpy as np\n",
    "import matplotlib.pyplot as plt\n",
    "import seaborn as sns\n",
    "import pandas as pd"
   ]
  },
  {
   "cell_type": "markdown",
   "metadata": {
    "id": "v-jK-TsQCwW9"
   },
   "source": [
    "# Recolectar datos\n",
    "<img src=\"https://raw.githubusercontent.com/InoveAlumnos/dataset_analytics_python/master/images/Pipeline1.png\" width=\"1000\" align=\"middle\">"
   ]
  },
  {
   "cell_type": "code",
   "execution_count": null,
   "metadata": {
    "colab": {
     "base_uri": "https://localhost:8080/"
    },
    "executionInfo": {
     "elapsed": 392,
     "status": "ok",
     "timestamp": 1674766343138,
     "user": {
      "displayName": "Johana Rangel",
      "userId": "05955916709715560742"
     },
     "user_tz": 180
    },
    "id": "j9x_YEdTtQeC",
    "outputId": "23b86799-6a29-454d-975b-722586e542d5",
    "tags": []
   },
   "outputs": [],
   "source": [
    "if os.access('partidos.csv', os.F_OK) is False:\n",
    "    if platform.system() == 'Windows':\n",
    "        !curl https://raw.githubusercontent.com/InoveAlumnos/dataset_analytics_python/master/partidos.csv > partidos.csv\n",
    "    else:\n",
    "        !wget partidos.csv https://raw.githubusercontent.com/InoveAlumnos/dataset_analytics_python/master/partidos.csv"
   ]
  },
  {
   "cell_type": "markdown",
   "metadata": {
    "id": "Q5I6l8ZCFaZ8"
   },
   "source": [
    "# Procesar datos\n",
    "<img src=\"https://raw.githubusercontent.com/InoveAlumnos/dataset_analytics_python/master/images/Pipeline2.png\" width=\"1000\" align=\"middle\">"
   ]
  },
  {
   "cell_type": "code",
   "execution_count": null,
   "metadata": {
    "colab": {
     "base_uri": "https://localhost:8080/",
     "height": 363
    },
    "executionInfo": {
     "elapsed": 9,
     "status": "ok",
     "timestamp": 1674766343139,
     "user": {
      "displayName": "Johana Rangel",
      "userId": "05955916709715560742"
     },
     "user_tz": 180
    },
    "id": "RQgSiWHXFWQD",
    "outputId": "334cba3c-aff9-422d-fc45-e609a2e6c2e4"
   },
   "outputs": [],
   "source": [
    "# Una vez descargado el archivo en Colab.\n",
    "# Leerlo con Pandas y el método read_csv\n",
    "# Una vez extraida toda la información se almacena en df\n",
    "# A partir de df y el método describe(), mostrará la descripción estadistica básica del archivo que se guardará en des\n",
    "# Crear una fila nueva llamada Nan en el DataFrame  des,\n",
    "# que indica la cantidad de datos tipo Nan que tiene cada columna.\n",
    "# Para crear una nueva fila, se utilizará el operador loc, donde se indica el nombre\n",
    "# de la nueva fila y con que valores se completará.\n",
    "# La información será de los datos faltantes df.isna().sum()\n",
    "# Crear una fila nueva llamada %Nan en el DataFrame des,\n",
    "# Esta fila se completará con los porcentajes de Nan encontrados en cada columna.\n",
    "\n",
    "df = pd.read_csv(\"partidos.csv\")\n",
    "des = df.describe()\n",
    "des.loc['Nan'] = df.isna().sum()\n",
    "des.loc['%Nan'] = (df.isna().mean())*100\n",
    "des"
   ]
  },
  {
   "cell_type": "code",
   "execution_count": null,
   "metadata": {
    "colab": {
     "base_uri": "https://localhost:8080/",
     "height": 206
    },
    "executionInfo": {
     "elapsed": 307,
     "status": "ok",
     "timestamp": 1674766343439,
     "user": {
      "displayName": "Johana Rangel",
      "userId": "05955916709715560742"
     },
     "user_tz": 180
    },
    "id": "yVdxZvGKFvM9",
    "outputId": "fac0f7f8-0e9f-4387-feea-e199f7c4887b"
   },
   "outputs": [],
   "source": [
    "# Muestra las 5 primeras filas del DataFrame df\n",
    "df.head()"
   ]
  },
  {
   "cell_type": "code",
   "execution_count": null,
   "metadata": {
    "colab": {
     "base_uri": "https://localhost:8080/"
    },
    "executionInfo": {
     "elapsed": 28,
     "status": "ok",
     "timestamp": 1674766343440,
     "user": {
      "displayName": "Johana Rangel",
      "userId": "05955916709715560742"
     },
     "user_tz": 180
    },
    "id": "bjzK91EoLfJZ",
    "outputId": "bad256b7-468b-453c-fffd-9b547c8051ee"
   },
   "outputs": [],
   "source": [
    "# ¿Cuántos datos quedaron para analizar?\n",
    "# (filas, columnas)\n",
    "df.shape"
   ]
  },
  {
   "cell_type": "markdown",
   "metadata": {
    "id": "l17CbKBnLTbu"
   },
   "source": [
    "## Fin de la limpieza\n",
    "No hay datos incompletos o mal ingresados en el dataset, está limpio! No es necesario ningún tipo de limpieza"
   ]
  },
  {
   "cell_type": "code",
   "execution_count": null,
   "metadata": {
    "colab": {
     "base_uri": "https://localhost:8080/"
    },
    "executionInfo": {
     "elapsed": 26,
     "status": "ok",
     "timestamp": 1674766343441,
     "user": {
      "displayName": "Johana Rangel",
      "userId": "05955916709715560742"
     },
     "user_tz": 180
    },
    "id": "XPQ2CtCGL3Zn",
    "outputId": "f3af953e-e48c-4733-f8cc-9efdcc63c2ba"
   },
   "outputs": [],
   "source": [
    "print('Cantidad de datos en observacion:', df.shape[0])"
   ]
  },
  {
   "cell_type": "markdown",
   "metadata": {
    "id": "8T_3enyVHYJa"
   },
   "source": [
    "# Explorar datos\n",
    "<img src=\"https://raw.githubusercontent.com/InoveAlumnos/dataset_analytics_python/master/images/Pipeline3.png\" width=\"1000\" align=\"middle\">"
   ]
  },
  {
   "cell_type": "code",
   "execution_count": null,
   "metadata": {
    "colab": {
     "base_uri": "https://localhost:8080/",
     "height": 206
    },
    "executionInfo": {
     "elapsed": 19,
     "status": "ok",
     "timestamp": 1674766343442,
     "user": {
      "displayName": "Johana Rangel",
      "userId": "05955916709715560742"
     },
     "user_tz": 180
    },
    "id": "5OZpKcO8Mh3A",
    "outputId": "0062ff90-bac2-4eed-886d-2e766816be6c"
   },
   "outputs": [],
   "source": [
    "# Muestra las 5 primeras filas del DataFrame df\n",
    "df.head()"
   ]
  },
  {
   "cell_type": "markdown",
   "metadata": {
    "id": "91gOMQg2Mkrd"
   },
   "source": [
    "Se puede observar que está el puntaje de cada partido pero no el resultado final (wins, loses, draws) --> (ganó, perdió, empató). Agregaremos una columna \"results\" con el resultado por partido."
   ]
  },
  {
   "cell_type": "code",
   "execution_count": null,
   "metadata": {
    "executionInfo": {
     "elapsed": 1,
     "status": "ok",
     "timestamp": 1674766365566,
     "user": {
      "displayName": "Johana Rangel",
      "userId": "05955916709715560742"
     },
     "user_tz": 180
    },
    "id": "mEYyqAuV2orR"
   },
   "outputs": [],
   "source": [
    "# Haciendo copia de df\n",
    "df1 = df.copy()"
   ]
  },
  {
   "cell_type": "code",
   "execution_count": null,
   "metadata": {
    "colab": {
     "base_uri": "https://localhost:8080/",
     "height": 206
    },
    "executionInfo": {
     "elapsed": 278,
     "status": "ok",
     "timestamp": 1674766369311,
     "user": {
      "displayName": "Johana Rangel",
      "userId": "05955916709715560742"
     },
     "user_tz": 180
    },
    "id": "O1jrDQfeRsqE",
    "outputId": "d6768588-f98d-480c-b597-fca3610fc188"
   },
   "outputs": [],
   "source": [
    "# Cambiar los nombres de las columnas.\n",
    "# Para ello, del DataFrame df accedemos a columns que contiene todos los nombres de las columnas.\n",
    "# Las cuales se van a sobreescribir con los nuevos nombres.\n",
    "df1.columns = ['fecha', 'equipo_local', 'equipo_visitante', 'resultado_local', 'resultado_visitante', 'torneo', 'ciudad', 'pais', 'neutral']\n",
    "df1.head()"
   ]
  },
  {
   "cell_type": "code",
   "execution_count": null,
   "metadata": {
    "colab": {
     "base_uri": "https://localhost:8080/",
     "height": 206
    },
    "executionInfo": {
     "elapsed": 1295,
     "status": "ok",
     "timestamp": 1674766447160,
     "user": {
      "displayName": "Johana Rangel",
      "userId": "05955916709715560742"
     },
     "user_tz": 180
    },
    "id": "fdQUARsp251Q",
    "outputId": "5e50f5ad-9c6d-4e44-e777-7d1d28c837fb"
   },
   "outputs": [],
   "source": [
    "# Sa filtra el dataset para agregar una nueva columna llamada \"resultados\".\n",
    "# Esta columna permite incrementar la información a partir de la ya disponible.\n",
    "# Para ello, la columna resultados se completará con el retorno de una lambda.\n",
    "# La lambda va a recorrer todo el DataFrame para verificar los condicionales establecidos:\n",
    "# 'ganó' if x.resultado_local > x.resultado_visitante\n",
    "#'perdió' if x.resultado_local < x.resultado_visitante\n",
    "# else 'empató'\n",
    "# El axis=1, es para que se aplica la lambda para cada fila del DataFrame.\n",
    "df1['resultados'] = df1.apply(lambda x : 'ganó' if x.resultado_local > x.resultado_visitante else 'perdió' if x.resultado_local < x.resultado_visitante else 'empató', axis=1)\n",
    "df1.head()"
   ]
  },
  {
   "cell_type": "code",
   "execution_count": null,
   "metadata": {
    "colab": {
     "base_uri": "https://localhost:8080/"
    },
    "executionInfo": {
     "elapsed": 396,
     "status": "ok",
     "timestamp": 1674766455860,
     "user": {
      "displayName": "Johana Rangel",
      "userId": "05955916709715560742"
     },
     "user_tz": 180
    },
    "id": "jzz8F7VgHTHH",
    "outputId": "60dc6779-32af-4b61-f60e-ae3c2bb3e2e7"
   },
   "outputs": [],
   "source": [
    "# En el registro de la totalidad de partidos, ¿Cuántos partidos se ganaron, cuántos se pierden y cuántos se empataron?\n",
    "df1['resultados'].value_counts()"
   ]
  },
  {
   "cell_type": "code",
   "execution_count": null,
   "metadata": {
    "colab": {
     "base_uri": "https://localhost:8080/"
    },
    "executionInfo": {
     "elapsed": 349,
     "status": "ok",
     "timestamp": 1674766475078,
     "user": {
      "displayName": "Johana Rangel",
      "userId": "05955916709715560742"
     },
     "user_tz": 180
    },
    "id": "v0p6e95WMscW",
    "outputId": "7275edbb-de28-412c-f9b3-262dbc1c0c2f"
   },
   "outputs": [],
   "source": [
    "# En la columna equipo_local, se cuenta cuántos valores únicos se encuentran.\n",
    "print(\"¿Cuántos países hay registrados?:\", df1['equipo_local'].nunique())"
   ]
  },
  {
   "cell_type": "code",
   "execution_count": null,
   "metadata": {
    "colab": {
     "base_uri": "https://localhost:8080/",
     "height": 296
    },
    "executionInfo": {
     "elapsed": 6,
     "status": "ok",
     "timestamp": 1674766498953,
     "user": {
      "displayName": "Johana Rangel",
      "userId": "05955916709715560742"
     },
     "user_tz": 180
    },
    "id": "y4BHiuUuJIBg",
    "outputId": "dc4f50b7-ea51-42ab-ec86-dc81ed276fab"
   },
   "outputs": [],
   "source": [
    "# Partidos jugados por Argentina de local:\n",
    "pais_analizar = 'Argentina'\n",
    "\n",
    "# Se filtra df1 para extraer la información del equipo Argentino.\n",
    "df_arg = df1[ df1['equipo_local'] == pais_analizar]\n",
    "\n",
    "# countplot, similar a un grágico de barrar, permite comparar la frecuencia de los datos a estudiar,\n",
    "# en este caso, la freciencia de los resultados de los partidos.\n",
    "# sns, alias de Seaborn\n",
    "# x='resultados', nombre de la columna que se desea observar la frecuencia\n",
    "# data=df_arg, el DataFrame von la información.\n",
    "# set_title(f\"Histórico de {pais_analizar} permite asociar un título al gráfico\n",
    "# plt.show() muestra el gráfico.\n",
    "sns.countplot(x='resultados', data=df_arg).set_title(f\"Histórico de {pais_analizar}\")\n",
    "plt.show()\n",
    "\n",
    "# El countplot nos resuelve no tener que hacer lo siguiente:\n",
    "#sns.barplot(x=df_arg['result'].value_counts().index, y=df_arg['result'].value_counts())"
   ]
  },
  {
   "cell_type": "code",
   "execution_count": null,
   "metadata": {
    "colab": {
     "base_uri": "https://localhost:8080/",
     "height": 641
    },
    "executionInfo": {
     "elapsed": 254,
     "status": "ok",
     "timestamp": 1674766547800,
     "user": {
      "displayName": "Johana Rangel",
      "userId": "05955916709715560742"
     },
     "user_tz": 180
    },
    "id": "KU8FE4hMPF2G",
    "outputId": "84f91446-8754-4ef0-fd14-e417c21ea9c4"
   },
   "outputs": [],
   "source": [
    "# Simplificar el resultado del datset, solo se tendrá encuenta si el local gana (target=1)\n",
    "# Caso contrario target = 0\n",
    "df1['target'] = df1['resultados'].apply(lambda x: 1 if x == 'ganó' else 0)\n",
    "df1"
   ]
  },
  {
   "cell_type": "markdown",
   "metadata": {
    "id": "dZOCklCQPrHU"
   },
   "source": [
    "# Entrenar modelo\n",
    "<div align=\"center\"><img src=\"https://raw.githubusercontent.com/InoveAlumnos/dataset_analytics_python/master/images/Pipeline4.png\" width=\"1000\" align=\"middle\"></div>"
   ]
  },
  {
   "cell_type": "code",
   "execution_count": null,
   "metadata": {
    "executionInfo": {
     "elapsed": 250,
     "status": "ok",
     "timestamp": 1674766654376,
     "user": {
      "displayName": "Johana Rangel",
      "userId": "05955916709715560742"
     },
     "user_tz": 180
    },
    "id": "ECZR9js2QcGW"
   },
   "outputs": [],
   "source": [
    "# Crear un numpy array \"X\" de los features de entrada que se utilizarian\n",
    "# para entrar al modelo\n",
    "# Se ha seleccionado los nombres de los equipos rivales, el consejo que\n",
    "# que para aumentar la performance en vez de ingresar el nombre se realice\n",
    "# binaryEncoding\n",
    "# (queda para el almno que desee realizar el proyecto de este dataset)\n",
    "# doble corchetes porque se accede a los valores de dos columnas.\n",
    "X = df1[['equipo_local', 'equipo_visitante']].values\n",
    "\n",
    "# Crear un numpy array \"y\" con la salida/objetivo --> target\n",
    "y = df1['target'].values"
   ]
  },
  {
   "cell_type": "code",
   "execution_count": null,
   "metadata": {
    "executionInfo": {
     "elapsed": 244,
     "status": "ok",
     "timestamp": 1674766658638,
     "user": {
      "displayName": "Johana Rangel",
      "userId": "05955916709715560742"
     },
     "user_tz": 180
    },
    "id": "Tbz6K5P3Q_1V"
   },
   "outputs": [],
   "source": [
    "# Crear los dataset de entrenamiento (train) y evaluación (test)\n",
    "# utilizando la herramienta train_test_split de scikit-learn,\n",
    "# con la proporción 70%30%\n",
    "# Ojo! Tener en cuenta que los dataset ahora son numpy array\n",
    "from sklearn.model_selection import train_test_split\n",
    "X_train, X_test, y_train, y_test = train_test_split(X, y, test_size=0.3, random_state=42)"
   ]
  },
  {
   "cell_type": "code",
   "execution_count": null,
   "metadata": {
    "executionInfo": {
     "elapsed": 2,
     "status": "ok",
     "timestamp": 1674767005454,
     "user": {
      "displayName": "Johana Rangel",
      "userId": "05955916709715560742"
     },
     "user_tz": 180
    },
    "id": "LJoIX1H44hRB"
   },
   "outputs": [],
   "source": [
    "# Modelo base\n",
    "# np, NumPy\n",
    "# método de NumPy random.randint, devuelve un número aleatorio entre 0 y 2 (El 2 no está incluido)\n",
    "def predict(X):\n",
    "    return np.random.randint(0, 2, size=X.shape[0])"
   ]
  },
  {
   "cell_type": "code",
   "execution_count": null,
   "metadata": {
    "executionInfo": {
     "elapsed": 1,
     "status": "ok",
     "timestamp": 1674767007161,
     "user": {
      "displayName": "Johana Rangel",
      "userId": "05955916709715560742"
     },
     "user_tz": 180
    },
    "id": "CImZvNeIRJwz"
   },
   "outputs": [],
   "source": [
    "# Obtener la salida según el modelo base\n",
    "y_hat_base = predict(X_test)"
   ]
  },
  {
   "cell_type": "code",
   "execution_count": null,
   "metadata": {
    "colab": {
     "base_uri": "https://localhost:8080/",
     "height": 283
    },
    "executionInfo": {
     "elapsed": 304,
     "status": "ok",
     "timestamp": 1674767232018,
     "user": {
      "displayName": "Johana Rangel",
      "userId": "05955916709715560742"
     },
     "user_tz": 180
    },
    "id": "zuBygaRjRQZH",
    "outputId": "a5795a00-71c3-40d0-d777-9fab8a051212"
   },
   "outputs": [],
   "source": [
    "# Dibujar la matriz de confusión con y_test e y_hat_base\n",
    "# Matriz de Confusion\n",
    "# Se utliza la matriz de confusión para evaluar la precisión de una clasificación.\n",
    "# cm = confusion_matrix(), necesita dos variables que contengan los valores a comparar.\n",
    "\n",
    "from sklearn.metrics import confusion_matrix, ConfusionMatrixDisplay\n",
    "cm = confusion_matrix(y_test, y_hat_base)\n",
    "\n",
    "# Código para relizar la representación gráfica con los resultados\n",
    "# Se crea la varible cmd, que almacena visualization de la Confusion Matrix \n",
    "# Necesita la variable cm que contiene los resultados de la comparación entre los valores reales y predicción\n",
    "# display_labels, se especifica las etiquetas de las categorias que se evalúan.\n",
    "cmd = ConfusionMatrixDisplay(cm, display_labels=['perdió','ganó'])\n",
    "\n",
    "# Con cmd.plot se especifica el mapa de colores reconocido por matplotlib.\n",
    "cmd.plot(cmap=plt.cm.Oranges)\n",
    "\n",
    "# Para mostrar la figura\n",
    "plt.show()"
   ]
  },
  {
   "cell_type": "code",
   "execution_count": null,
   "metadata": {
    "colab": {
     "base_uri": "https://localhost:8080/"
    },
    "executionInfo": {
     "elapsed": 301,
     "status": "ok",
     "timestamp": 1674767253227,
     "user": {
      "displayName": "Johana Rangel",
      "userId": "05955916709715560742"
     },
     "user_tz": 180
    },
    "id": "qBRhcJ_tSW2O",
    "outputId": "4d5cc4b9-8220-40e0-b1f6-a4e62bff57ea"
   },
   "outputs": [],
   "source": [
    "# Calcular la exactitud (accuracy)\n",
    "from sklearn.metrics import accuracy_score\n",
    "accuracy_score(y_test, y_hat_base, normalize=True)"
   ]
  },
  {
   "cell_type": "code",
   "execution_count": null,
   "metadata": {
    "colab": {
     "base_uri": "https://localhost:8080/"
    },
    "executionInfo": {
     "elapsed": 2,
     "status": "ok",
     "timestamp": 1674767255833,
     "user": {
      "displayName": "Johana Rangel",
      "userId": "05955916709715560742"
     },
     "user_tz": 180
    },
    "id": "G8iSP3kVSe8e",
    "outputId": "5d3b25a3-01d9-4f08-85f5-383dabca9873"
   },
   "outputs": [],
   "source": [
    "# Calcular el f1_score\n",
    "from sklearn.metrics import f1_score\n",
    "f1_score(y_test, y_hat_base)"
   ]
  }
 ],
 "metadata": {
  "colab": {
   "provenance": [],
   "toc_visible": true
  },
  "kernelspec": {
   "display_name": "Python 3",
   "language": "python",
   "name": "python3"
  },
  "language_info": {
   "codemirror_mode": {
    "name": "ipython",
    "version": 3
   },
   "file_extension": ".py",
   "mimetype": "text/x-python",
   "name": "python",
   "nbconvert_exporter": "python",
   "pygments_lexer": "ipython3",
   "version": "3.8.10"
  }
 },
 "nbformat": 4,
 "nbformat_minor": 4
}
