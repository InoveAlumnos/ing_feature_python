{
 "cells": [
  {
   "cell_type": "markdown",
   "metadata": {
    "id": "Ea9CPlvttQda"
   },
   "source": [
    "<a href=\"https://www.inove.com.ar\"><img src=\"https://raw.githubusercontent.com/InoveAlumnos/dataset_analytics_python/master/images/PA%20Banner.png\" width=\"1000\" align=\"center\"></a>\n",
    "\n",
    "\n",
    "# Ingeniería de features\n",
    "\n",
    "Primer modelo, métricas y visualización del dataset de propiedades\\\n",
    "v1.1"
   ]
  },
  {
   "cell_type": "markdown",
   "metadata": {
    "id": "uJHXLQH8mte6"
   },
   "source": [
    "### Objetivos: Generar un modelo base sin utilizar Inteligencia Artificial para calcular el precio promedio de un alquiler.\n",
    "\n",
    "*   Implemetar el código de descarga de un archivo csv.\n",
    "*   Comprender la lectura de un archivo csv con Pandas.\n",
    "*   Realizar la descripción estadística con Pandas.\n",
    "*   Identificar y eliminar datos faltantes.\n",
    "*   Explorar los datos y aplicar filtros para alquileres en ARS.\n",
    "*   Representar graficamente los datos para observar la tendencia.\n",
    "*   Definir los valores de X, y como variables necesarias para un modelo.\n",
    "*   Definir el criterio para dividir el dataset en entrenamiento (train) y evaluación (test).\n",
    "* Crear un modelo base simple para calcular el precio promedio de un alquiler\n",
    "*  Implementar métricas.\n",
    "\n",
    "\n"
   ]
  },
  {
   "cell_type": "code",
   "execution_count": null,
   "metadata": {
    "id": "xJN8ND5ctQdc"
   },
   "outputs": [],
   "source": [
    "import os\n",
    "import platform\n",
    "\n",
    "import numpy as np\n",
    "import matplotlib.pyplot as plt\n",
    "import seaborn as sns\n",
    "import pandas as pd"
   ]
  },
  {
   "cell_type": "markdown",
   "metadata": {
    "id": "v-jK-TsQCwW9"
   },
   "source": [
    "# Recolectar datos\n",
    "<img src=\"https://raw.githubusercontent.com/InoveAlumnos/dataset_analytics_python/master/images/Pipeline1.png\" width=\"1000\" align=\"middle\">"
   ]
  },
  {
   "cell_type": "code",
   "execution_count": null,
   "metadata": {
    "id": "j9x_YEdTtQeC",
    "tags": []
   },
   "outputs": [],
   "source": [
    "if os.access('propiedades.csv', os.F_OK) is False:\n",
    "    if platform.system() == 'Windows':\n",
    "        !curl https://raw.githubusercontent.com/InoveAlumnos/dataset_analytics_python/master/propiedades.csv > propiedades.csv\n",
    "    else:\n",
    "        !wget propiedades.csv https://raw.githubusercontent.com/InoveAlumnos/dataset_analytics_python/master/propiedades.csv"
   ]
  },
  {
   "cell_type": "markdown",
   "metadata": {
    "id": "Q5I6l8ZCFaZ8"
   },
   "source": [
    "# Procesar datos\n",
    "<img src=\"https://raw.githubusercontent.com/InoveAlumnos/dataset_analytics_python/master/images/Pipeline2.png\" width=\"1000\" align=\"middle\">"
   ]
  },
  {
   "cell_type": "code",
   "execution_count": null,
   "metadata": {
    "id": "RQgSiWHXFWQD"
   },
   "outputs": [],
   "source": [
    "# Una vez descargado el archivo en Colab.\n",
    "# Leerlo con Pandas y el método read_csv\n",
    "# Una vez extraida toda la información se almacena en df\n",
    "# A partir de df y el método describe(), mostrará la descripción estadistica básica del archivo que se guardará en des\n",
    "# Crear una fila nueva llamada Nan en el DataFrame  des,\n",
    "# que indica la cantidad de datos tipo Nan que tiene cada columna.\n",
    "# Para crear una nueva fila, se utilizará el operador loc, donde se indica el nombre\n",
    "# de la nueva fila y con que valores se completará.\n",
    "# La información será de los datos faltantes df.isna().sum()\n",
    "# Crear una fila nueva llamada %Nan en el DataFrame des,\n",
    "# Esta fila se completará con los porcentajes de Nan encontrados en cada columna.\n",
    "\n",
    "df = pd.read_csv(\"propiedades.csv\")\n",
    "des = df.describe()\n",
    "des.loc['Nan'] = df.isna().sum()\n",
    "des.loc['%Nan'] = (df.isna().mean())*100\n",
    "des"
   ]
  },
  {
   "cell_type": "code",
   "execution_count": null,
   "metadata": {
    "id": "yVdxZvGKFvM9"
   },
   "outputs": [],
   "source": [
    "# Muestra las 5 primeras filas del DataFrame df\n",
    "df.head()"
   ]
  },
  {
   "cell_type": "code",
   "execution_count": null,
   "metadata": {
    "id": "fyOu8suvF8cP"
   },
   "outputs": [],
   "source": [
    "# Sacamos todas las filas de la tabla las cuales el campo \"m2\" o \"ambientes\" se encuentre vacio\n",
    "df_clean = df.copy()\n",
    "df_clean.dropna(subset=['m2'], inplace=True)\n",
    "df_clean.dropna(subset=['ambientes'], inplace=True)\n",
    "\n",
    "# Otra manera de obtener el mismo resultado:\n",
    "#df_clean = df[df['m2'].notna()]\n",
    "#df_clean = df_clean[df_clean['ambientes'].notna()]"
   ]
  },
  {
   "cell_type": "code",
   "execution_count": null,
   "metadata": {
    "id": "bjzK91EoLfJZ"
   },
   "outputs": [],
   "source": [
    "# ¿Cuántos datos quedaron para analizar?\n",
    "# (filas, columnas)\n",
    "df_clean.shape"
   ]
  },
  {
   "cell_type": "markdown",
   "metadata": {
    "id": "l17CbKBnLTbu"
   },
   "source": [
    "## Fin de la limpieza\n",
    "Se finalizó la limpieza sacando aquellas filas que no eran de interes, se puede observar que la cantidad de filas hasta el momento es menor a la cantidad de filas con la que se comnezó el análisis"
   ]
  },
  {
   "cell_type": "code",
   "execution_count": null,
   "metadata": {
    "id": "XPQ2CtCGL3Zn"
   },
   "outputs": [],
   "source": [
    "print('Cantidad de datos en observacion:', df_clean.shape[0])"
   ]
  },
  {
   "cell_type": "markdown",
   "metadata": {
    "id": "8T_3enyVHYJa"
   },
   "source": [
    "# Explorar datos\n",
    "<img src=\"https://raw.githubusercontent.com/InoveAlumnos/dataset_analytics_python/master/images/Pipeline3.png\" width=\"1000\" align=\"middle\">"
   ]
  },
  {
   "cell_type": "code",
   "execution_count": null,
   "metadata": {
    "id": "5OZpKcO8Mh3A"
   },
   "outputs": [],
   "source": [
    "# Muestra las 5 primeras filas del DataFrame df\n",
    "df_clean.head()"
   ]
  },
  {
   "cell_type": "markdown",
   "metadata": {
    "id": "91gOMQg2Mkrd"
   },
   "source": [
    "Se puede observar que hay alquileres en dolares, solo nos quedaremos con aquellos alquileres en pesos"
   ]
  },
  {
   "cell_type": "code",
   "execution_count": null,
   "metadata": {
    "id": "jzz8F7VgHTHH"
   },
   "outputs": [],
   "source": [
    "# Filtramos el dataframe, solos nos quedamos con los alquileres en pesos\n",
    "# df_ars, almacena el DataFrame filtrado\n",
    "# Para filtrad el DataFrame llamado df_clean se debe acceder a el con corchetes\n",
    "# Entre los corcheter especificar la condición de filtrado \n",
    "# --> Accede a la columna moneda df_clean['moneda']\n",
    "# Y para cada valor va a comparar si es igual a 'ARS'\n",
    "\n",
    "df_ars = df_clean[df_clean['moneda'] == 'ARS']\n",
    "\n",
    "# shape informa de la cantidad de filas y columnas y en la \n",
    "# ubicación 0 está la información de las filas.\n",
    "print('Cantidad de datos en observacion:', df_ars.shape[0])"
   ]
  },
  {
   "cell_type": "code",
   "execution_count": null,
   "metadata": {
    "id": "v0p6e95WMscW"
   },
   "outputs": [],
   "source": [
    "# Renderizamos el gráfico utilizando el diagrama de cajas\n",
    "#df_ars.boxplot(column=['m2'])\n",
    "\n",
    "# Se crea el espacio para dibujar con fig = plt.figure(figsize=(16, 9))\n",
    "# Se crea el espacio para el gráfico\n",
    "# sns alias Seaborn\n",
    "# accede al método boxplot(), donde se le indica los valores a representar en el eje de las x, en este caso, \n",
    "# los valores de la columna m2\n",
    "# ax=ax, es un objeto Axes sobre el que se dibuja el gráfico; de lo contrario, utiliza los ejes actuales.\n",
    "# ax.grid('dashed') para ver la grilla de fondo especificando el color\n",
    "\n",
    "\n",
    "fig = plt.figure(figsize=(16, 9))\n",
    "ax = fig.add_subplot()\n",
    "sns.boxplot(x=df_ars['m2'], ax=ax)\n",
    "ax.grid('dashed')"
   ]
  },
  {
   "cell_type": "markdown",
   "metadata": {
    "id": "cKbXNhC6M5x8"
   },
   "source": [
    "Se puede observar que hay muchos alquileres \"outliers\", es decir que se escapan de la tendencia. Filtraremos aquellos que no aportan al análisis"
   ]
  },
  {
   "cell_type": "code",
   "execution_count": null,
   "metadata": {
    "id": "02AnTpR1IPHl"
   },
   "outputs": [],
   "source": [
    "# Nos quedamos solamente con los deparamentos menor a 200m2 y mayor a 50m2\n",
    "# Utilizamos el concepto de \"máscara\" tal cual fue visto en Numpy\n",
    "# para filtrar el dataframe de propiedads deseado\n",
    "\n",
    "propiedades = df_ars[(df_ars['m2'] < 200) & (df_ars['m2'] > 50)]"
   ]
  },
  {
   "cell_type": "code",
   "execution_count": null,
   "metadata": {
    "id": "UNO4xVXjNGZW"
   },
   "outputs": [],
   "source": [
    "print('Cantidad de datos en observacion:', propiedades.shape[0])"
   ]
  },
  {
   "cell_type": "code",
   "execution_count": null,
   "metadata": {
    "id": "y4BHiuUuJIBg"
   },
   "outputs": [],
   "source": [
    "# Graficar la tendencia\n",
    "sns.scatterplot(x=propiedades['m2'], y=propiedades['precio'], color='b', label='precio vs m2')\n",
    "plt.show()"
   ]
  },
  {
   "cell_type": "markdown",
   "metadata": {
    "id": "APXYUcIdiDHh"
   },
   "source": [
    "# Entrenar modelo\n",
    "<img src=\"https://raw.githubusercontent.com/InoveAlumnos/dataset_analytics_python/master/images/Pipeline4.png\" width=\"1000\" align=\"middle\">"
   ]
  },
  {
   "cell_type": "markdown",
   "metadata": {
    "id": "8y9xIL_0iE5N"
   },
   "source": [
    "El primer paso es obtener los datos que serán la entrada del sistema (X) y los datos que serán la salida del modelo estimador (y)"
   ]
  },
  {
   "cell_type": "code",
   "execution_count": null,
   "metadata": {
    "id": "eyrysoOyiMFV"
   },
   "outputs": [],
   "source": [
    "X = propiedades[['m2']].values\n",
    "y = propiedades['precio'].values"
   ]
  },
  {
   "cell_type": "markdown",
   "metadata": {
    "id": "HgPxfYKBiO-u"
   },
   "source": [
    "Siguiente paso es dividir el dataset en entrenamiento (train) y evaluación (test). Utilizaremos el criterio 70%30%"
   ]
  },
  {
   "cell_type": "code",
   "execution_count": null,
   "metadata": {
    "id": "B7h8kmBTTAh2"
   },
   "outputs": [],
   "source": [
    "from sklearn.model_selection import train_test_split\n",
    "# Fijamos un \"random_state\" constante para que siempre el dataset se parta de la misma forma\n",
    "# para poder repetir los ensayos\n",
    "# Ojo! Los dataset de train y test son array numpy\n",
    "# Se importa la herramienta de la libreria  train_test_split()\n",
    "# Necesita los valores de X e y\n",
    "# test_size=0.3, permite indicar el porcentaje de valores para evaluar, equivalente a un 30%\n",
    "# random_state=42,  es un número fijo que utilizan comunmente en documentación, significa que para cada ejecución del algoritmo se genere nuevos valores aleatorios\n",
    "# y los conjuntos de datos de entrenamiento y pruebas serán diferentes\n",
    "X_train, X_test, y_train, y_test = train_test_split(X, y, test_size=0.3, random_state=42)"
   ]
  },
  {
   "cell_type": "code",
   "execution_count": null,
   "metadata": {
    "id": "23cn4wVFkQC4"
   },
   "outputs": [],
   "source": [
    "# Modelo base simple\n",
    "# precio_m2 calcula el promedio \n",
    "# precio_m2, almacena el resultado de la division de cada y_train y X_train\n",
    "# promedio_precio_m2, almacena el promedio de los resultados de las divisiones\n",
    "# Para calcular un precio de alquiler se multiplica los m2 por el precio promedio de alquiler\n",
    "\n",
    "precio_m2 = y_train / X_train\n",
    "promedio_precio_m2 = precio_m2.mean()\n",
    "y_hat_base = X_test * promedio_precio_m2\n",
    "print(f\"Precio del m2 promedio: ${promedio_precio_m2:.2f}\")"
   ]
  },
  {
   "cell_type": "code",
   "execution_count": null,
   "metadata": {
    "id": "51iGrk0dkzSS"
   },
   "outputs": [],
   "source": [
    "# Gráfico con Matplotlib\n",
    "plt.scatter(X_test, y_hat_base, color='darkGreen', label='y_hat_model')\n",
    "\n",
    "# Mismo gráfico con Seaborn\n",
    "# X_test[:,0], de los valores de X_test que grafique todos los valores (:) de la y el 0 indica que todos esten en una dimensión \n",
    "#sns.scatterplot(x=X_test[:,0], y=y_hat_base[:,0], color='darkGreen', label='y_hat_model')\n",
    "\n",
    "# Para ver la leyenda de la recta(Que representa)\n",
    "plt.legend()\n",
    "# Mostrar el gráfico\n",
    "plt.show()"
   ]
  },
  {
   "cell_type": "code",
   "execution_count": null,
   "metadata": {
    "id": "Ec1Ys5M_mS0o"
   },
   "outputs": [],
   "source": [
    "# Se crea el espacio para dibujar con fig = plt.figure()\n",
    "# Se crea el espacio para el gráfico ax = fig.add_subplot()\n",
    "# Del DataFrame propiedades accedemos al método plot.scatter para representar m2 y precio reales en un gráfico de dispersión\n",
    "# De ax accedemos al método scatter para mostrar los m2 y los precios resultados de la predicción.\n",
    "\n",
    "fig = plt.figure()\n",
    "ax = fig.add_subplot()\n",
    "propiedades.plot.scatter(['m2'], ['precio'], color='b', ax=ax)\n",
    "ax.scatter(X_test, y_hat_base, color='darkGreen', label=\"base model\")\n",
    "ax.legend()\n",
    "plt.show()"
   ]
  },
  {
   "cell_type": "markdown",
   "metadata": {
    "id": "I8J6CgdImiqD"
   },
   "source": [
    "Como se observa en el último gráfico, la línea verde aproxima bastante a la distribución de puntos azules, pero debería \"apuntar\" un poco más abajo ya que se pierde todos los departamentos de mayor m2. En el próximo encuentro discutiremos porque sucede este fenomeno."
   ]
  },
  {
   "cell_type": "code",
   "execution_count": null,
   "metadata": {
    "id": "USTZDQPemK2G"
   },
   "outputs": [],
   "source": [
    "# Calcular los errores del modelo base\n",
    "from sklearn.metrics import mean_absolute_error\n",
    "from sklearn.metrics import mean_squared_error\n",
    "\n",
    "print('Error promedio   MAE - Modelo Base:', mean_absolute_error(y_test, y_hat_base))\n",
    "print('Error cuadrático MSE - Modelo Base:', mean_squared_error(y_test, y_hat_base))"
   ]
  },
  {
   "cell_type": "markdown",
   "metadata": {
    "id": "H34ta5U8nNL4"
   },
   "source": [
    "## Conclusión\n",
    "Sin utilizar inteligencia artificial, unicamente con nuestro conocimientos sobre los datos y estadística hemos generado un primer modelo base competirá contra los algoritmos de inteligencia artificial que veremos en la siguiente etapa"
   ]
  }
 ],
 "metadata": {
  "colab": {
   "provenance": []
  },
  "kernelspec": {
   "display_name": "Python 3",
   "language": "python",
   "name": "python3"
  },
  "language_info": {
   "codemirror_mode": {
    "name": "ipython",
    "version": 3
   },
   "file_extension": ".py",
   "mimetype": "text/x-python",
   "name": "python",
   "nbconvert_exporter": "python",
   "pygments_lexer": "ipython3",
   "version": "3.8.10"
  }
 },
 "nbformat": 4,
 "nbformat_minor": 4
}
